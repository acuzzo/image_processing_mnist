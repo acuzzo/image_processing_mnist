{
 "cells": [
  {
   "cell_type": "code",
   "execution_count": 141,
   "metadata": {},
   "outputs": [],
   "source": [
    "# importing libraries\n",
    "from keras.datasets import mnist\n",
    "import numpy as np\n",
    "import pandas as pd\n",
    "from sklearn.model_selection import train_test_split, KFold\n",
    "from sklearn.tree import DecisionTreeClassifier\n",
    "from sklearn.ensemble import BaggingClassifier\n",
    "from sklearn.ensemble import RandomForestClassifier\n",
    "from sklearn.ensemble import AdaBoostClassifier\n",
    "from numpy import mean\n",
    "from numpy import std\n",
    "from sklearn.model_selection import cross_val_score\n",
    "from sklearn.model_selection import RepeatedStratifiedKFold\n",
    "from sklearn import tree\n",
    "import random\n",
    "#from sklearn.metrics import confusion_matrix, f1_score, precision_score, recall_score\n",
    "\n",
    "# for visualisation\n",
    "import matplotlib.pyplot as plt\n",
    "from sklearn.tree import export_graphviz\n",
    "from IPython.display import Image  \n",
    "from subprocess import call\n",
    "from numpy import asarray\n",
    "from sklearn.preprocessing import OrdinalEncoder\n",
    "import scipy.io\n",
    "import seaborn as sns\n",
    "from sklearn.metrics import f1_score, precision_score, recall_score, classification_report, confusion_matrix\n"
   ]
  },
  {
   "attachments": {},
   "cell_type": "markdown",
   "metadata": {},
   "source": [
    "Split the training data into a training and development(test) set.\n",
    "\n",
    "Fitting to test data can be avoided by splitting the dataset into three parts instead of two before training: a training set,development set (‘dev set’), and test set. The development set is used to see whether the model seems to be generalising well to data that is not in the training set. This makes it possible to spot and try to remedy under- or overfitting."
   ]
  },
  {
   "attachments": {},
   "cell_type": "markdown",
   "metadata": {},
   "source": [
    "# load data\n",
    "\n",
    "The mnist data is a tuple of numpy arrays. The data is already split into test and train with 10000/60000 observations, with two features of length 28 and associated labels.\n",
    "\n",
    "The training data was further split into train and development sets, it was decided to split the same proportion as the train test data (1/6) and was re-shaped to 1 dimensional array."
   ]
  },
  {
   "cell_type": "code",
   "execution_count": 62,
   "metadata": {},
   "outputs": [],
   "source": [
    "# load data, first tuple has two arrays for the training data (observations/labels)\n",
    "# Need to reshape the features into a single array\n",
    "tp_mnist = mnist.load_data()\n",
    "X_train_dev = tp_mnist[0][0].reshape(60000, 28*28)\n",
    "y_train_dev = tp_mnist[0][1]\n",
    "\n",
    "# second tuple split 10000, 28, 28, reshape 1D\n",
    "X_test = tp_mnist[1][0].reshape(10000, 28*28)\n",
    "y_test = tp_mnist[1][1]\n",
    "\n",
    "# set random state\n",
    "r = 41\n",
    "\n",
    "# development set\n",
    "X_train, X_dev, y_train, y_dev = train_test_split(X_train_dev, y_train_dev, test_size=0.17, random_state=r)"
   ]
  },
  {
   "attachments": {},
   "cell_type": "markdown",
   "metadata": {},
   "source": [
    "Check to make sure the data types are all the same:"
   ]
  },
  {
   "cell_type": "code",
   "execution_count": 123,
   "metadata": {},
   "outputs": [
    {
     "name": "stdout",
     "output_type": "stream",
     "text": [
      "uint8\n",
      "uint8\n",
      "uint8\n",
      "uint8\n"
     ]
    }
   ],
   "source": [
    "\n",
    "print(X_test.dtype)\n",
    "print(y_test.dtype)\n",
    "print(X_train_dev.dtype)\n",
    "print(X_train_dev.dtype)\n"
   ]
  },
  {
   "attachments": {},
   "cell_type": "markdown",
   "metadata": {},
   "source": [
    "The following histograms show distribution between training and development sets, both appear to have a close enough distribution to be representative. "
   ]
  },
  {
   "cell_type": "code",
   "execution_count": 152,
   "metadata": {},
   "outputs": [
    {
     "data": {
      "text/plain": [
       "<AxesSubplot:ylabel='Percent'>"
      ]
     },
     "execution_count": 152,
     "metadata": {},
     "output_type": "execute_result"
    },
    {
     "data": {
      "image/png": "[encoded data removed]",
      "text/plain": [
       "<Figure size 576x360 with 2 Axes>"
      ]
     },
     "metadata": {
      "needs_background": "light"
     },
     "output_type": "display_data"
    }
   ],
   "source": [
    "# hist plot percent, y train compared to y dev\n",
    "fig, ax = plt.subplots(1, 2, figsize=(8, 5))\n",
    "sns.histplot(y_train, ax=ax[0], stat='percent', bins=10)\n",
    "sns.histplot(y_dev, ax=ax[1], stat='percent', bins=10)"
   ]
  },
  {
   "attachments": {},
   "cell_type": "markdown",
   "metadata": {},
   "source": [
    "A visualization that randomly selects an image from the training set and displays it with its associated y-value."
   ]
  },
  {
   "cell_type": "code",
   "execution_count": 148,
   "metadata": {},
   "outputs": [
    {
     "name": "stdout",
     "output_type": "stream",
     "text": [
      "8\n"
     ]
    },
    {
     "data": {
      "image/png": "[encoded data removed]",
      "text/plain": [
       "<Figure size 432x288 with 1 Axes>"
      ]
     },
     "metadata": {
      "needs_background": "light"
     },
     "output_type": "display_data"
    }
   ],
   "source": [
    "# randomly select a label, print its value\n",
    "img_index = random.randrange(len(y_train))\n",
    "print(y_train[img_index])\n",
    "\n",
    "# show the corresponding image\n",
    "plt.imshow(X_train[img_index].reshape(28,28))\n",
    "plt.show()\n"
   ]
  },
  {
   "attachments": {},
   "cell_type": "markdown",
   "metadata": {},
   "source": [
    "● Use the RandomForestClassifier built into sklearn to create a classification\n",
    "model.\n",
    "\n",
    "First train a random forest classifier with no tuning to get a baseline accuracy."
   ]
  },
  {
   "cell_type": "code",
   "execution_count": 149,
   "metadata": {},
   "outputs": [
    {
     "name": "stdout",
     "output_type": "stream",
     "text": [
      "Untuned accuracy Random Forest: 0.9458823529411765\n"
     ]
    }
   ],
   "source": [
    "# untuned forest\n",
    "untuned_forest = RandomForestClassifier(n_estimators=10, random_state=r)\n",
    "# fit model\n",
    "untuned_forest.fit(X_train, y_train)\n",
    "print(\"Untuned accuracy Random Forest:\",untuned_forest.score(X_dev, y_dev))"
   ]
  },
  {
   "attachments": {},
   "cell_type": "markdown",
   "metadata": {},
   "source": [
    "TUNING:\n",
    "\n",
    "First I tuned depth using the largest depth from the control model. This ran quite slowly so I reduced the number of estimators to 10.  Tuning depth, enables to prune the decision tree to simplify model.\n",
    "\n",
    "I used the highest accuracy of the depths (31) as the model is running fast enough on my computer, I could have used 11 as this represents the best tradeoff of efficiency vs accuracy if I had a slower computer."
   ]
  },
  {
   "cell_type": "code",
   "execution_count": 150,
   "metadata": {},
   "outputs": [
    {
     "data": {
      "image/png": "[encoded data removed]",
      "text/plain": [
       "<Figure size 864x360 with 1 Axes>"
      ]
     },
     "metadata": {
      "needs_background": "light"
     },
     "output_type": "display_data"
    },
    {
     "name": "stdout",
     "output_type": "stream",
     "text": [
      "Best performance reached at depth of: 31\n"
     ]
    }
   ],
   "source": [
    "# find the largest tree depth of all estimators in the forest\n",
    "max_tree_depth_in_forest = max([estimator.tree_.max_depth for estimator in untuned_forest.estimators_])\n",
    "\n",
    "# recalculate accuracy for depths between 1 and max_tree_depth_in_forest\n",
    "pruned_scores = [] \n",
    "pruned_depths = range(1, max_tree_depth_in_forest + 1)\n",
    "for d in pruned_depths:\n",
    "  forest = RandomForestClassifier(n_estimators=10, random_state=r, max_depth=d)\n",
    "  forest.fit(X_train, y_train)\n",
    "  score = forest.score(X_dev, y_dev)\n",
    "  pruned_scores.append(score)\n",
    "\n",
    "# plot the outcome\n",
    "fig, ax = plt.subplots(figsize=(12,5))\n",
    "ax.plot(pruned_depths, pruned_scores)\n",
    "plt.xlabel(\"Max_depth values\")\n",
    "plt.xlabel(\"Accuracy\")\n",
    "ax.xaxis.set_ticks(pruned_depths)\n",
    "plt.show()\n",
    "\n",
    "# fitting the chosen tree using test set\n",
    "best_depth = pruned_depths[np.argmax(pruned_scores)]\n",
    "print('Best performance reached at depth of:', best_depth)"
   ]
  },
  {
   "attachments": {},
   "cell_type": "markdown",
   "metadata": {},
   "source": [
    "Then I tuned number of estimators between 50 and 500\n",
    "\n",
    "I plotted the results, 250 estimators produced the best accuracy"
   ]
  },
  {
   "cell_type": "code",
   "execution_count": 73,
   "metadata": {},
   "outputs": [
    {
     "name": "stdout",
     "output_type": "stream",
     "text": [
      "50\n",
      "100\n",
      "150\n",
      "200\n",
      "250\n",
      "300\n",
      "350\n",
      "400\n",
      "450\n"
     ]
    },
    {
     "data": {
      "image/png": "[encoded data removed]",
      "text/plain": [
       "<Figure size 720x360 with 1 Axes>"
      ]
     },
     "metadata": {
      "needs_background": "light"
     },
     "output_type": "display_data"
    },
    {
     "name": "stdout",
     "output_type": "stream",
     "text": [
      "Best performance reached at estimator count of: 250\n"
     ]
    }
   ],
   "source": [
    "# create a list of estimator counts between 50 and 10000\n",
    "n_estimators = range(50, 500, 50)\n",
    "\n",
    "# run classifier for each estimator count, record accuracy\n",
    "estimator_scores = [] \n",
    "for n in n_estimators:\n",
    "  forest = RandomForestClassifier(n_estimators=n, random_state=r, max_depth=best_depth)\n",
    "  forest.fit(X_train, y_train)\n",
    "  score = forest.score(X_dev, y_dev)\n",
    "  estimator_scores.append(score)\n",
    "\n",
    "# plot the outcome\n",
    "fig, ax = plt.subplots(figsize=(10, 5))\n",
    "ax.plot(n_estimators, estimator_scores)\n",
    "plt.xlabel(\"n_estimators\")\n",
    "plt.xlabel(\"Accuracy\")\n",
    "ax.xaxis.set_ticks(n_estimators)\n",
    "plt.show()\n",
    "\n",
    "# calculate and display the best number of estimators based on results\n",
    "best_estimator = n_estimators[np.argmax(estimator_scores)]\n",
    "print('Best performance reached at estimator count of:', best_estimator)"
   ]
  },
  {
   "attachments": {},
   "cell_type": "markdown",
   "metadata": {},
   "source": [
    "The tuning steps have automatically set the best values for best tree depth and number of estimators\n",
    "\n",
    "I retrained the model with the new parameters and increased the models accuracy by approximately 2.5%."
   ]
  },
  {
   "cell_type": "code",
   "execution_count": 151,
   "metadata": {},
   "outputs": [
    {
     "name": "stdout",
     "output_type": "stream",
     "text": [
      "Untuned accuracy: 0.9458823529411765\n",
      "Tuned accuracy: 0.9692\n"
     ]
    }
   ],
   "source": [
    "# rerunning the model with the tuned tree depth value and tuned estimator count\n",
    "forest = RandomForestClassifier(n_estimators=best_estimator, random_state=r, max_depth=best_depth)\n",
    "forest.fit(X_train, y_train)\n",
    "y_pred = forest.predict(X_test)\n",
    "\n",
    "# output the old vs new accuracy scores\n",
    "print(\"Untuned accuracy:\",untuned_forest.score(X_dev, y_dev))\n",
    "print(\"Tuned accuracy:\",forest.score(X_test, y_test))"
   ]
  },
  {
   "attachments": {},
   "cell_type": "markdown",
   "metadata": {},
   "source": [
    "See below confusion matrix, plotted as a heat map to show how the model performed. \n",
    "\n",
    "It looks like the model occasionally struggles to differentiate between 4 and 9.\n",
    "\n",
    "Overall, it is very good at finding the correct value"
   ]
  },
  {
   "cell_type": "code",
   "execution_count": 127,
   "metadata": {},
   "outputs": [
    {
     "data": {
      "text/plain": [
       "Text(0.5, 1.0, 'Accuracy Score: 0.9692')"
      ]
     },
     "execution_count": 127,
     "metadata": {},
     "output_type": "execute_result"
    },
    {
     "data": {
      "image/png": "[encoded data removed]",
      "text/plain": [
       "<Figure size 864x864 with 2 Axes>"
      ]
     },
     "metadata": {
      "needs_background": "light"
     },
     "output_type": "display_data"
    }
   ],
   "source": [
    "# Use sklearn to obtain a confusion matrix comparing the predictions\n",
    "# to the gold labels.\n",
    "confusion_matrix = confusion_matrix(y_test, y_pred)\n",
    "plt.figure(figsize=(12,12))\n",
    "sns.heatmap(confusion_matrix, annot=True, linewidth=.5, square=True, cmap='Blues_r',fmt='0.4g')\n",
    "\n",
    "plt.ylabel('actual label')\n",
    "plt.xlabel('Predicted Label')\n",
    "plt.title(f'Accuracy Score: {forest.score(X_test, y_test)}')"
   ]
  },
  {
   "attachments": {},
   "cell_type": "markdown",
   "metadata": {},
   "source": [
    "A Classification report is used to measure the quality of predictions from a classification algorithm. How many predictions are True and how many are False. More specifically, True Positives, False Positives, True negatives and False Negatives are used to predict the metrics of a classification report as shown below. \n",
    "\n",
    "Support is the number of actual occurrences of the class in the specified dataset.\n",
    "\n",
    "Precision is the ability of a classifier not to label an instance positive that is actually negative. For each class it is defined as the ratio of true positives to the sum of true and false positives. Precision = TP/(TP + FP)\n",
    "\n",
    "Recall is the ability of a classifier to find all positive instances. For each class it is defined as the ratio of true positives to the sum of true positives and false negatives. Recall = TP/(TP+FN)\n",
    "\n",
    "The F1 score is a weighted harmonic mean of precision and recall such that the best score is 1.0 and the worst is 0.0. \n",
    "F1 Score = 2*(Recall * Precision) / (Recall + Precision)"
   ]
  },
  {
   "cell_type": "code",
   "execution_count": 107,
   "metadata": {},
   "outputs": [
    {
     "name": "stdout",
     "output_type": "stream",
     "text": [
      "              precision    recall  f1-score   support\n",
      "\n",
      "           0       0.97      0.99      0.98       980\n",
      "           1       0.99      0.99      0.99      1135\n",
      "           2       0.96      0.97      0.97      1032\n",
      "           3       0.96      0.96      0.96      1010\n",
      "           4       0.97      0.97      0.97       982\n",
      "           5       0.97      0.96      0.97       892\n",
      "           6       0.97      0.98      0.98       958\n",
      "           7       0.97      0.96      0.97      1028\n",
      "           8       0.96      0.96      0.96       974\n",
      "           9       0.96      0.95      0.95      1009\n",
      "\n",
      "    accuracy                           0.97     10000\n",
      "   macro avg       0.97      0.97      0.97     10000\n",
      "weighted avg       0.97      0.97      0.97     10000\n",
      "\n"
     ]
    }
   ],
   "source": [
    "print(classification_report(y_test, y_pred))"
   ]
  }
 ],
 "metadata": {
  "kernelspec": {
   "display_name": "Python 3",
   "language": "python",
   "name": "python3"
  },
  "language_info": {
   "codemirror_mode": {
    "name": "ipython",
    "version": 3
   },
   "file_extension": ".py",
   "mimetype": "text/x-python",
   "name": "python",
   "nbconvert_exporter": "python",
   "pygments_lexer": "ipython3",
   "version": "3.9.2"
  },
  "orig_nbformat": 4,
  "vscode": {
   "interpreter": {
    "hash": "aee8b7b246df8f9039afb4144a1f6fd8d2ca17a180786b69acc140d282b71a49"
   }
  }
 },
 "nbformat": 4,
 "nbformat_minor": 2
}
